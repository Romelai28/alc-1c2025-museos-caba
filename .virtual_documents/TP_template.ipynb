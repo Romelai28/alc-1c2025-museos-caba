# Carga de paquetes necesarios para graficar
import numpy as np
import matplotlib.pyplot as plt
import pandas as pd # Para leer archivos
import geopandas as gpd # Para hacer cosas geográficas
import seaborn as sns # Para hacer plots lindos
import networkx as nx # Construcción de la red en NetworkX
import scipy

# Carga las funciones utilitarias que hicimos.
from template_funciones import *
from template_funciones_2 import *








# Leemos el archivo, retenemos aquellos museos que están en CABA, y descartamos aquellos que no tienen latitud y longitud
museos = gpd.read_file('https://raw.githubusercontent.com/MuseosAbiertos/Leaflet-museums-OpenStreetMap/refs/heads/principal/data/export.geojson')
barrios = gpd.read_file('https://cdn.buenosaires.gob.ar/datosabiertos/datasets/ministerio-de-educacion/barrios/barrios.geojson')





# Armamos el gráfico para visualizar los museos
fig, ax = plt.subplots(figsize=(10, 10))
barrios.boundary.plot(color='gray',ax=ax)
museos.plot(ax=ax)





# En esta línea:
# Tomamos museos, lo convertimos al sistema de coordenadas de interés, extraemos su geometría (los puntos del mapa), 
# calculamos sus distancias a los otros puntos de df, redondeamos (obteniendo distancia en metros), y lo convertimos a un array 2D de numpy
D = museos.to_crs("EPSG:22184").geometry.apply(lambda g: museos.to_crs("EPSG:22184").distance(g)).round().to_numpy()





def construye_adyacencia(D,m): 
    # Función que construye la matriz de adyacencia del grafo de museos
    # D matriz de distancias, m cantidad de links por nodo
    # Retorna la matriz de adyacencia como un numpy.
    D = D.copy()
    l = [] # Lista para guardar las filas
    for fila in D: # recorriendo las filas, anexamos vectores lógicos
        l.append(fila<=fila[np.argsort(fila)[m]] ) # En realidad, elegimos todos los nodos que estén a una distancia menor o igual a la del m-esimo más cercano
    A = np.asarray(l).astype(int) # Convertimos a entero
    np.fill_diagonal(A,0) # Borramos diagonal para eliminar autolinks
    return(A)

m = 3 # Cantidad de links por nodo
A = construye_adyacencia(D,m)





G = nx.from_numpy_array(A) # Construimos la red a partir de la matriz de adyacencia
# Construimos un layout a partir de las coordenadas geográficas
G_layout = {i:v for i,v in enumerate(zip(museos.to_crs("EPSG:22184").get_coordinates()['x'],museos.to_crs("EPSG:22184").get_coordinates()['y']))}


fig, ax = plt.subplots(figsize=(15, 15)) # Visualización de la red en el mapa
barrios.to_crs("EPSG:22184").boundary.plot(color='gray',ax=ax) # Graficamos Los barrios
nx.draw_networkx(G,G_layout,ax=ax) # Graficamos los museos























def graficarRedPesandoPageRankCatedra(D, m_mas_cercanos: int, alfa: float):
    # Grafica la red de museos asignando un tamaño a cada nodo proporcional a su Page Rank: Considerando como parametro
    # la matriz D, m_mas_cercanos y alfa.

    # Función inspirada por la dada a la catedra. Para la versión que incluye transparencias mirar graficarRedPesandoPageRankNuestro.
    
    # D: Matriz de distancias.
    # m_mas_cercanos: Parametro para armar la matriz de adyacencia.
    # Alfa: Coeficientes de damping. (0 < Alfa < 1)
    A = construye_adyacencia(D, m_mas_cercanos)  # Matriz de adyancencia que une cada museo con los m más cercanos
    pageranks = calcula_pagerank(A, alfa)  # Vector de page rank.

    ##
    # Construir el grafo
    G = nx.from_numpy_array(A)
    G_layout = {i:v for i,v in enumerate(zip(museos.to_crs("EPSG:22184").get_coordinates()['x'],museos.to_crs("EPSG:22184").get_coordinates()['y']))}
    ##

    factor_escala = 1e4 # Escalamos los nodos 10 mil veces para que sean bien visibles
    fig, ax = plt.subplots(figsize=(10, 10)) # Visualización de la red en el mapa
    barrios.to_crs("EPSG:22184").boundary.plot(color='gray',ax=ax) # Graficamos Los barrios
    pr = pageranks # Este va a ser su score Page Rank. Ahora lo reemplazamos con un vector al azar
    pr = pr/pr.sum() # Normalizamos para que sume 1
    Nprincipales = 3 # Cantidad de principales
    principales = np.argsort(pr)[-Nprincipales:] # Identificamos a los N principales
    labels = {n: str(n) if i in principales else "" for i, n in enumerate(G.nodes)} # Nombres para esos nodos
    nx.draw_networkx(G,G_layout,node_size = pr*factor_escala, ax=ax,with_labels=False) # Graficamos red
    nx.draw_networkx_labels(G, G_layout, labels=labels, font_size=6, font_color="k") # Agregamos los nombres

    ax.set_title(f"Museos de Buenos Aires según PageRank\n(m = {m_mas_cercanos}, alfa = {alfa})", fontsize=14)

    plt.show()

    print("Los museos principales son:")
    for i in principales:
        print(museos['name'][i])
    print("")
    


def graficarRedPesandoPageRankNuestro(D, m_mas_cercanos: int, alfa: float):
    # Esta función hace un gráfico similar al dibujar de la catedra pero le cambia algunos colores para que se vea mejor (opcional usarla)
    
    # Grafica la red de museos asignando un tamaño a cada nodo proporcional a su Page Rank: Considerando como parametro
    # la matriz D, m_mas_cercanos y alfa.
    
    # D: Matriz de distancias.
    # m_mas_cercanos: Parametro para armar la matriz de adyacencia.
    # Alfa: Coeficientes de damping. (0 < Alfa < 1)

    A = construye_adyacencia(D, m_mas_cercanos)  # Matriz de adyancencia que une cada museo con los m más cercanos
    pageranks = calcula_pagerank(A, alfa)  # Vector de page rank.

    factor_escala = 1e4 # Escalamos los nodos 10 mil veces para que sean bien visibles

    # Construir el grafo
    G = nx.from_numpy_array(A)
    G_layout = {i:v for i,v in enumerate(zip(museos.to_crs("EPSG:22184").get_coordinates()['x'],museos.to_crs("EPSG:22184").get_coordinates()['y']))}

    fig, ax = plt.subplots(figsize=(10, 10))  # Visualización de la red en el mapa

    barrios.to_crs("EPSG:22184").boundary.plot(color='gray', ax=ax)  # Graficamos Los barrios

    pageranks = pageranks/pageranks.sum()  # Normalizamos para que sume 1
    Nprincipales = 3 # Cantidad de principales
    principales = np.argsort(pageranks)[-Nprincipales:] # Identificamos a los N principales

    labels = {n: str(n) if i in principales else "" for i, n in enumerate(G.nodes)} # Nombres para esos nodos principales.
    node_colors = ['blue' if i in principales else 'red' for i in G.nodes]  # Color personalizado para los nodos principales.

    # Dibujar la red sobre el mapa
    nx.draw_networkx_edges(G, G_layout, ax=ax, edge_color='blue', alpha=0.4, width=0.7)
    nx.draw_networkx_nodes(G, G_layout, ax=ax,
                           node_size=pageranks * factor_escala,  # Escalado del tamaño por PageRank
                           node_color=node_colors,
                           edgecolors='black',
                           alpha=0.4)
    nx.draw_networkx_labels(G, G_layout, labels=labels, font_size=6, font_color="k")  # Agregamos los nombres


    ax.set_title(f"Museos de Buenos Aires según PageRank\n(m = {m_mas_cercanos}, alfa = {alfa})", fontsize=14)
    #ax.set_axis_off()
    plt.show()

    print("Los museos principales son:")
    for i in principales:
        print(museos['name'][i])
    print("")



def graficarRedPesandoPageRank(D, m_mas_cercanos: int, alfa: float, usarVersionCatedra:bool = True):
    # Grafica la red de museos asignando un tamaño a cada nodo proporcional a su Page Rank: Considerando como parametro
    # la matriz D, m_mas_cercanos y alfa.
    
    # D: Matriz de distancias.
    # m_mas_cercanos: Parametro para armar la matriz de adyacencia.
    # Alfa: Coeficientes de damping. (0 < Alfa < 1)
    # usarVersionCatedra decide cual de las dos versiones usar, por defecto es graficarRedPesandoPageRankCatedra.

    if usarVersionCatedra:
        graficarRedPesandoPageRankCatedra(D, m_mas_cercanos, alfa)
    else:
        graficarRedPesandoPageRankNuestro(D, m_mas_cercanos,alfa)
    


def principalesAlphaFijo(D, lista_m, alpha):
  # Esta función va a calcular el pagerank de todos los museos dado un alfa fijo para distintos m. Vamos a hablar siempre de los pageranks en función de m ya que el alfa va a ser el mismo en todos los casos
  # Va a graficar como varia el pagerank de los museos que fueron principales (al menos una vez) en función del alfa
  n = D.shape[0] # Cantidad de museos
  pagerank = [[0 for _ in range(n)] for _ in range(n)] # Dado el índice i de un museo y un m, pagerank[i][m] nos dice su pagerank
  fuePrincipal = [False for _ in range(n)] # Dado el indice i de un museo, fuePrincipal[i] nos dice si fue principal alguna vez (basta con que haya un solo m que lo haga principal)

  fig, ax = plt.subplots(figsize=(10, 10))

  # Calculamos los pageranks de los museos para todos los m
  for m in lista_m:
    A = construye_adyacencia(D, m)
    pagerank_actual = calcula_pagerank(A, alpha) # El pagerank para este m

    for i in range(n):
      pagerank[i][m] = pagerank_actual[i]

    museos_ordenados = []
    for i in range(len(pagerank_actual)):
      museos_ordenados.append((pagerank_actual[i], i))
    museos_ordenados.sort() # Ordenamos los museos en base a su pagerank, su segunda coordenada nos da su indice

    for j in range(3): # Marcamos a los tres mejores museos del pagerank actual
      fuePrincipal[museos_ordenados[n-1-j][1]] = True

  # Hacemos el gráfico de cada museo que fue principal alguna vez
  for i in range(n):
    if (fuePrincipal[i]):
      pagerank_museo_i = []
      for m in lista_m:
        pagerank_museo_i.append(pagerank[i][m])

      plt.plot(lista_m, pagerank_museo_i, label=f"{museos['name'][i]}")

  ax.set_xlabel("m [Cantidad de vecinos]")
  ax.set_ylabel("Pagerank")
  ax.set_title(f"Museos principales de Buenos Aires con alfa fijo: {alpha}")

  plt.legend()
  plt.show()



def principalesMFijo(D, lista_alpha, m):
  # Esta función va a calcular el pagerank de todos los museos dado un m fijo para distintos alfa. Vamos a hablar siempre de los pageranks en función de alfa ya que el m va a ser el mismo en todos los casos
  # Va a graficar como varia el pagerank de los museos que fueron principales (al menos una vez) en función del m
  n = D.shape[0] # Cantidad de vecinos
  pagerank = dict() # Dado un indice i de un museo y un alfa, pagerank[i][alfa] te va a decir el pagerank del museo i
  fuePrincipal = [False for _ in range(n)] # Dado el indice i de un museo, fuePrincipal[i] nos dice si fue principal alguna vez (basta con que haya un solo alfa que lo haga principal)

  fig, ax = plt.subplots(figsize=(10, 10))
  A = construye_adyacencia(D, m)

  for i in range(n):
    pagerank[i] = dict() # Vamos a usar un diccionario para poder indexar con alfa ya que no es un entero

  for alpha in lista_alpha:
    pagerank_actual = calcula_pagerank(A, alpha) # El pagerank de los museos para este alfa

    for i in range(n):
      pagerank[i][alpha] = pagerank_actual[i]

    museos_ordenados = []
    for i in range(len(pagerank_actual)):
      museos_ordenados.append((pagerank_actual[i], i))
    museos_ordenados.sort() # Ordenamos los museos en base a su pagerank, su segunda coordenada nos da su indice

    for j in range(3): # Marcamos a los tres mejores museos del pagerank actual
      fuePrincipal[museos_ordenados[n-1-j][1]] = True

  # Hacemos el gráfico de cada museo que fue principal alguna vez
  for i in range(n):
    if (fuePrincipal[i]):
      pagerank_museo_i = []
      for v in pagerank[i].values():
        pagerank_museo_i.append(v)

      plt.plot(lista_alpha, pagerank_museo_i, label=f"Museo {museos['name'][i]}")

  ax.set_xlabel("Alfa")
  ax.set_ylabel("Pagerank")
  ax.set_title(f"Museos principales de Buenos Aires con m fijo: {m}")

  plt.legend()
  plt.show()










graficarRedPesandoPageRank(D, 3, 1/5)








for m in [1, 3, 5, 10]:
    graficarRedPesandoPageRank(D, m, 1/5)





ms = [1, 3, 5, 10]
lista_m = np.array([1, 3, 5, 10])
alfa = 1/5
principalesAlphaFijo(D, lista_m, alfa)








for alfa in [6/7, 4/5, 2/3, 1/2, 1/3, 1/5, 1/7]:
    graficarRedPesandoPageRank(D, 5, alfa)





lista_alpha = np.array([1/7, 1/5, 1/3, 1/2, 2/3, 4/5, 6/7])
m = 5

principalesMFijo(D, lista_alpha, m)

















C = calcula_matriz_C_continua(D)

B = calcula_B(C, 3)

# w : = vector numero total de visitantes de cada museo.
w = np.loadtxt('visitas.txt')

L, U = calculaLU(B)

# Bv = w
# LUv = w

# Ly = w
# Uv = y

y = scipy.linalg.solve_triangular(L,w,lower=True)  # Ly=w
v = scipy.linalg.solve_triangular(U,y)  # Uv = y

print("Cantidad total de visitantes que entraron en la red (Norma 1 de v): ", norma_1(v))





#C = calcula_matriz_C_continua(D)  # Puedo mantener comentadas estas dos lineas porque ya calculamos C y B en el punto 5.
#B = calcula_B(C, 3)
## Ya tenemos B calculada.

# Busquemos Binv.

# BX = I
# LUX = I

# LY = I
# UX = Y

n, m = B.shape
I = np.eye(n)

Y = scipy.linalg.solve_triangular(L,I,lower=True)  # LY = I
Binv = scipy.linalg.solve_triangular(U,Y)  # UX = Y

numero_condicion_B = norma_1(B) * norma_1(Binv)

print("Número de condición de B: ", numero_condicion_B)

print("Cota error: ", numero_condicion_B * 0.05)










































































print("En la red de ejemplo: \n")

L = calcula_L(A_ejemplo)

R = calcula_R(A_ejemplo)

print("L:")
print(L)

print("\n R:")
print(R)



aristas = np.sum(A_ejemplo) / 2

mu = 1

autovectorMayor, _, _ = metpot1(R)

segundoAutovectorMenor, _, _ = metpotI2(L, 1)

corte = calcula_lambda(L, segundoAutovectorMenor)[0][0]

modularidad = calcula_Q(R, autovectorMayor)[0][0]/(2*aristas)

print("Corte mínimo :")
print(corte)

print("Esto significa que hay dos aristas que unen ambos grupos")

print("\nModularidad :")
print(modularidad)

print("Esto significa que los grupos estan bien conectados internamente en comparación a un modelo aleatorio")



print("El autovector asociado al segundo autovalor mas chico de L es:")
print(segundoAutovectorMenor.flatten())

print("\n Su vector s asociado es: ")
print(calcular_S(segundoAutovectorMenor).flatten())

print("\n El autovector asociado al autovalor mas grande de R es:")

print(autovectorMayor.flatten())

print("\n Su vector s asociado es: ")
print(calcular_S(autovectorMayor).flatten())

print("\n Luego, se observa que ambos vectores s son iguales, por ende, se divide esta red de igual manera aplicando ambos métodos")


print("Partición optima en 4 grupos según el laplaciano: ")
print(laplaciano_iterativo(A_ejemplo, 2))


print("\n Partición optima según modularidad: ")

print(modularidad_iterativo(A_ejemplo))

print("\nComo habiamos visto anteriormente, las partición de modularidad y la del laplaciano eran la misma. Ahora que se realizo iterativamente, \nla modularidad volvio a" \
"capturar solamente dos grupos, mientras que, al indicarle al laplaciano que queriamos 4 grupos, \neste realizo una separación de los museos en base a criterios más finos " \
"de conectividad")





COLORES = [
    'red', 'blue', 'green', 'orange', 'purple', 'cyan', 'magenta', 'yellow',
    'brown', 'lime', 'pink', 'olive', 'teal', 'gold', 'gray', 'navy', 'darkred',
    'darkgreen', 'deepskyblue', 'indigo'
]

def graficarPoblaciones(D, m_mas_cercanos, conLabels=True):
    # Grafica la red de museos asignando a cada museo una población.
    # Parametros: matriz D, m_mas_cercanos, conLabels (opcional).
    
    # D: Matriz de distancias.
    # m_mas_cercanos: Parametro para armar la matriz de adyacencia.
    # conLabels: Indica si en el gráfico, a cada nodo de museo, si le debe agregar una label indicando a que población pertenece.
    #            museos con la misma label corresponden a museos de la misma población.

    A = construye_adyacencia(D, m) # Obtenemos la matriz de adyacencia que une a los museos con sus m más cercanos.
    A_prima = np.ceil(1/2 * (A + A.T)) # Simetrizamos la matriz de adyacencia.
    lista_poblaciones = modularidad_iterativo(A_prima) # Calculamos la división de sus poblaciones.
    
    # Construir el grafo
    G = nx.from_numpy_array(A)
    G_layout = {i:v for i,v in enumerate(zip(museos.to_crs("EPSG:22184").get_coordinates()['x'],museos.to_crs("EPSG:22184").get_coordinates()['y']))}

    # Warning sobre si la cantidad de colores es adecuada en relación a la cantidad de poblaciones:
    if(len(COLORES) < len(lista_poblaciones)):
        print(
            "WARNING: Hay más poblaciones que colores disponibles.\n"
            "En el gráfico van a aparecer museos que coinciden en color pero que pertenecen a poblaciones distintas.\n"
            "Aunque se pueden diferenciar por su label, se recomienda extender la lista de 'COLORES' para una mejor visualización."
        )

    fig, ax = plt.subplots(figsize=(10, 10)) # Visualización de la red en el mapa
    barrios.to_crs("EPSG:22184").boundary.plot(color='gray', ax=ax) # Graficamos Los barrios

    # Dibujamos los nodos de los museos con sus respectivos colores.
    for i, poblacion in enumerate(lista_poblaciones):
        color = COLORES[i % len(COLORES)]
        nx.draw_networkx_nodes(G, G_layout, nodelist=poblacion, node_color=color, node_size=100, ax=ax)
    
    nx.draw_networkx_edges(G, G_layout, ax=ax, alpha=0.4)
    
    # Labels:
    if(conLabels):
        # A cada museo le asignamos su población correspondiente para crear las labels.
        museo_a_poblacion = {}
        for i, poblacion in enumerate(lista_poblaciones):
            for museo in poblacion:
                museo_a_poblacion[museo] = i
        
        # Asignamos las labels de los museos representando a que población corresponde.
        # El número de label es arbitrario pero museos con la misma label pertenecen a la misma población.
        labels = {n: str(museo_a_poblacion[n]) for n in G.nodes if n in museo_a_poblacion}

        # Agregamos en el gráfico las labels.
        nx.draw_networkx_labels(G, G_layout, labels=labels, font_size=6, font_color="black", ax=ax)

    
    plt.title(f"Red de Museos separada en poblaciones usando modularidad (m = {m})")
    plt.axis('off')
    plt.show()
    


ms = [3, 5, 10, 50]

for m in ms:
    # Graficamos las poblaciones. Los museos que comparte label y color pertenecen a la misma población.
    graficarPoblaciones(D, m, conLabels=False)

    #for i in range(len(lista_poblaciones)):
    #    print(f"{i}: {lista_poblaciones[i]}")
    #print("----------")








COLORES = [
    'red', 'blue', 'green', 'orange', 'purple', 'cyan', 'magenta', 'yellow',
    'brown', 'lime', 'pink', 'olive', 'teal', 'gold', 'gray', 'navy', 'darkred',
    'darkgreen', 'deepskyblue', 'indigo'
]

def graficarPoblacionesModularidad(D, m, conLabels=True, ax=None):
    # Construir la matriz de adyacencia y particionar por modularidad
    A = construye_adyacencia(D, m) # Obtenemos la matriz de adyacencia que une a los museos con sus m más cercanos.
    A_prima = np.ceil(1/2 * (A + A.T))  # Simetrizamos
    # Obtenemos la lista de poblaciones usando el método de modularidad iterativo.
    lista_poblaciones = modularidad_iterativo(A_prima)
    # Graficamos.
    graficarPoblaciones(A, m, lista_poblaciones, conLabels, ax)

def graficarPoblacionesLaplaciano(D, m, cantidad_niveles, conLabels=True, ax=None):
    # Construir la matriz de adyacencia y particionar por modularidad
    A = construye_adyacencia(D, m) # Obtenemos la matriz de adyacencia que une a los museos con sus m más cercanos.
    A_prima = np.ceil(1/2 * (A + A.T))  # Simetrizamos
    # Obtenemos la lista de poblaciones usando el método laplaciano iterativo.
    lista_poblaciones = laplaciano_iterativo(A_prima, cantidad_niveles)
    # Graficamos.
    graficarPoblaciones(A, m, lista_poblaciones, conLabels, ax)

def graficarPoblaciones(A, m, lista_poblaciones, conLabels=True, ax=None):
    # Warning si hay más poblaciones que colores
    if len(COLORES) < len(lista_poblaciones):
        print(
            "WARNING: Hay más poblaciones que colores disponibles.\n"
            "En el gráfico van a aparecer museos que coinciden en color pero que pertenecen a poblaciones distintas.\n"
            "Aunque se pueden diferenciar por su label, se recomienda extender la lista de 'COLORES' para una mejor visualización."
        )

    # Construir el grafo
    G = nx.from_numpy_array(A)
    G_layout = {i: (x, y) for i, (x, y) in enumerate(zip(museos.to_crs("EPSG:22184").get_coordinates()['x'], museos.to_crs("EPSG:22184").get_coordinates()['y']))}

    # Usar ax dado o crear uno nuevo si no se pasa
    if ax is None:
        fig, ax = plt.subplots(figsize=(10, 10))
    
    barrios.to_crs("EPSG:22184").boundary.plot(color='gray', ax=ax) # Graficamos Los barrios

    # Dibujar nodos por población
    for i, poblacion in enumerate(lista_poblaciones):
        color = COLORES[i % len(COLORES)]
        nx.draw_networkx_nodes(G, G_layout, nodelist=poblacion, node_color=color, node_size=100, ax=ax)

    nx.draw_networkx_edges(G, G_layout, ax=ax, alpha=0.4)

    # Dibujar labels con número de población
    if conLabels:
        museo_a_poblacion = {museo: i for i, poblacion in enumerate(lista_poblaciones) for museo in poblacion}
        labels = {n: str(museo_a_poblacion[n]) for n in G.nodes if n in museo_a_poblacion}
        nx.draw_networkx_labels(G, G_layout, labels=labels, font_size=6, font_color="black", ax=ax)

    # Título con m y cantidad de poblaciones
    cantidad_poblaciones = len(lista_poblaciones)
    ax.set_title(f"m = {m}  |  {cantidad_poblaciones} poblaciones detectadas")
    ax.axis('off')



ms = [3, 5, 10, 50]
fig, axes = plt.subplots(2, 2, figsize=(10, 10))  # 2 filas x 2 columnas
axes = axes.flatten()

for i, m in enumerate(ms):
    graficarPoblacionesModularidad(D, m, conLabels=False, ax=axes[i])

plt.suptitle("Comparación de poblaciones obtenidas haciendo particiones por modularidad\npara distintos valores de m.", fontsize=14)
plt.show()


ms = [3, 5, 10, 50]
numero_de_cortes = [4, 3, 3, 1] # Elegidos para que se asemejen a la cantidad de poblaciones detectadas por el método de la modularidad.

fig, axes = plt.subplots(2, 2, figsize=(10, 10)) # 2 filas x 2 columnas
axes = axes.flatten()

for i, m in enumerate(ms):
    graficarPoblacionesLaplaciano(D, m, numero_de_cortes[i], conLabels=False, ax=axes[i])

plt.suptitle("Comparación de poblaciones obtenidas haciendo particiones por laplaciano\npara distintos valores de m.", fontsize=14)
plt.show()









